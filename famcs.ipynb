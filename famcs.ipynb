{
  "nbformat": 4,
  "nbformat_minor": 0,
  "metadata": {
    "colab": {
      "provenance": [],
      "authorship_tag": "ABX9TyMjWxvMFNp+brNRsXeFxray",
      "include_colab_link": true
    },
    "kernelspec": {
      "name": "python3",
      "display_name": "Python 3"
    },
    "language_info": {
      "name": "python"
    }
  },
  "cells": [
    {
      "cell_type": "markdown",
      "metadata": {
        "id": "view-in-github",
        "colab_type": "text"
      },
      "source": [
        "<a href=\"https://colab.research.google.com/github/zakarka2006/famcs2024/blob/main/famcs.ipynb\" target=\"_parent\"><img src=\"https://colab.research.google.com/assets/colab-badge.svg\" alt=\"Open In Colab\"/></a>"
      ]
    },
    {
      "cell_type": "code",
      "source": [
        "!git clone https://github.com/zakarka2006/famcs2024.git"
      ],
      "metadata": {
        "colab": {
          "base_uri": "https://localhost:8080/"
        },
        "id": "QGA8-djfVn4Y",
        "outputId": "9d7b5b9a-a2f1-4762-d314-2304322abe6b"
      },
      "execution_count": 3,
      "outputs": [
        {
          "output_type": "stream",
          "name": "stdout",
          "text": [
            "fatal: destination path 'famcs2024' already exists and is not an empty directory.\n"
          ]
        }
      ]
    },
    {
      "cell_type": "code",
      "source": [
        "!pip install opencv-python pytesseract"
      ],
      "metadata": {
        "colab": {
          "base_uri": "https://localhost:8080/"
        },
        "id": "tlEe6KwmM2K2",
        "outputId": "affe8340-2fc0-4e8d-fe31-b75d61c264bd"
      },
      "execution_count": 3,
      "outputs": [
        {
          "output_type": "stream",
          "name": "stdout",
          "text": [
            "Requirement already satisfied: opencv-python in /usr/local/lib/python3.10/dist-packages (4.10.0.84)\n",
            "Collecting pytesseract\n",
            "  Downloading pytesseract-0.3.10-py3-none-any.whl.metadata (11 kB)\n",
            "Requirement already satisfied: numpy>=1.21.2 in /usr/local/lib/python3.10/dist-packages (from opencv-python) (1.26.4)\n",
            "Requirement already satisfied: packaging>=21.3 in /usr/local/lib/python3.10/dist-packages (from pytesseract) (24.1)\n",
            "Requirement already satisfied: Pillow>=8.0.0 in /usr/local/lib/python3.10/dist-packages (from pytesseract) (9.4.0)\n",
            "Downloading pytesseract-0.3.10-py3-none-any.whl (14 kB)\n",
            "Installing collected packages: pytesseract\n",
            "Successfully installed pytesseract-0.3.10\n"
          ]
        }
      ]
    },
    {
      "cell_type": "markdown",
      "source": [
        "# Letters №1\n"
      ],
      "metadata": {
        "id": "lCkdxwengSoC"
      }
    },
    {
      "cell_type": "code",
      "execution_count": 34,
      "metadata": {
        "colab": {
          "base_uri": "https://localhost:8080/"
        },
        "id": "1m5C_S-M_Rwd",
        "outputId": "7953217c-6f6f-41be-fd59-5775e4bfcf6f"
      },
      "outputs": [
        {
          "output_type": "stream",
          "name": "stdout",
          "text": [
            "Counter({'C': 935, 'V': 888, 'Y': 857, 'I': 797, 'U': 763, 'N': 762, 'Z': 744, 'H': 740, 'M': 727, 'R': 657, 'A': 651, 'S': 630, 'B': 565, 'K': 562, 'G': 557, 'W': 526, 'D': 498, 'O': 371, 'J': 322, 'L': 188, 'Q': 188, 'F': 183, 'T': 169, 'P': 86, 'X': 70, 'E': 20})\n",
            "F 183\n",
            "Y 857\n",
            "I 797\n",
            "K 562\n",
            "H 740\n",
            "L 188\n",
            "J 322\n",
            "A 651\n",
            "D 498\n",
            "W 526\n",
            "Z 744\n",
            "U 763\n",
            "N 762\n",
            "R 657\n",
            "V 888\n",
            "M 727\n",
            "B 565\n",
            "X 70\n",
            "T 169\n",
            "C 935\n",
            "O 371\n",
            "G 557\n",
            "Q 188\n",
            "S 630\n",
            "P 86\n",
            "E 20\n",
            "13456\n"
          ]
        }
      ],
      "source": [
        "import cv2\n",
        "import numpy as np\n",
        "from collections import Counter\n",
        "from PIL import Image, ImageEnhance\n",
        "\n",
        "Image.MAX_IMAGE_PIXELS = 100000000\n",
        "def maximize_contrast(image_path):\n",
        "    image = Image.open(image_path)\n",
        "    image = image.convert(\"L\")\n",
        "    enhancer = ImageEnhance.Contrast(image)\n",
        "    max_contrast_image = enhancer.enhance(10)\n",
        "    max_contrast_image.save(f\"contrast_{image_path}\")\n",
        "\n",
        "def preprocess_image(image_path):\n",
        "    image = cv2.imread(image_path, cv2.IMREAD_GRAYSCALE)\n",
        "    _, binary_image = cv2.threshold(image, 128, 255, cv2.THRESH_BINARY_INV + cv2.THRESH_OTSU)\n",
        "    return binary_image\n",
        "\n",
        "def find_contours(binary_image):\n",
        "    contours, _ = cv2.findContours(binary_image, cv2.RETR_EXTERNAL, cv2.CHAIN_APPROX_SIMPLE)\n",
        "    return contours\n",
        "\n",
        "def create_letter_templates():\n",
        "    templates = {}\n",
        "    for letter in \"ABCDEFGHIJKLMNOPQRSTUVWXYZ\":\n",
        "        template_path = f\"./letters/{letter}.png\"\n",
        "        template_image = preprocess_image(template_path)\n",
        "        contours = find_contours(template_image)\n",
        "        if contours:  # Only add templates with valid contours\n",
        "            templates[letter] = contours\n",
        "    return templates\n",
        "\n",
        "def match_letters(image, templates):\n",
        "    detected_letters = []\n",
        "    contours = find_contours(image)\n",
        "    for contour in contours:\n",
        "        x, y, w, h = cv2.boundingRect(contour)\n",
        "        letter_image = image[y:y+h, x:x+w]\n",
        "        max_match = float(\"inf\")\n",
        "        matched_letter = \"\"\n",
        "        for letter, template_contours in templates.items():\n",
        "            for template_contour in template_contours:\n",
        "                match = cv2.matchShapes(template_contour, contour, cv2.CONTOURS_MATCH_I3, 0.0)\n",
        "                if match < max_match:\n",
        "                    max_match = match\n",
        "                    matched_letter = letter\n",
        "        detected_letters.append(matched_letter)\n",
        "    return detected_letters\n",
        "\n",
        "maximize_contrast(\"letters.png\")\n",
        "binary_image = preprocess_image(\"contrast_letters.png\")\n",
        "templates = create_letter_templates()\n",
        "detected_letters = match_letters(binary_image, templates)\n",
        "\n",
        "letter_count = Counter(detected_letters)\n",
        "print(letter_count)\n",
        "\n",
        "counter = 0\n",
        "for letter in letter_count:\n",
        "    if (letter.lower() == letter):\n",
        "        continue\n",
        "    counter += letter_count[letter]\n",
        "    print(letter, letter_count[letter])\n",
        "\n",
        "print(counter)\n"
      ]
    }
  ]
}