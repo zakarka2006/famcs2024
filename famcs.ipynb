{
  "nbformat": 4,
  "nbformat_minor": 0,
  "metadata": {
    "colab": {
      "provenance": [],
      "authorship_tag": "ABX9TyP7h9r55HR+azFau0p5KkeX",
      "include_colab_link": true
    },
    "kernelspec": {
      "name": "python3",
      "display_name": "Python 3"
    },
    "language_info": {
      "name": "python"
    }
  },
  "cells": [
    {
      "cell_type": "markdown",
      "metadata": {
        "id": "view-in-github",
        "colab_type": "text"
      },
      "source": [
        "<a href=\"https://colab.research.google.com/github/zakarka2006/famcs2024/blob/main/famcs.ipynb\" target=\"_parent\"><img src=\"https://colab.research.google.com/assets/colab-badge.svg\" alt=\"Open In Colab\"/></a>"
      ]
    },
    {
      "cell_type": "markdown",
      "source": [
        "Установите библиотеки и скачайте картинки, затем по очереди запускайте блоки с кодом."
      ],
      "metadata": {
        "id": "L2neald1YFfO"
      }
    },
    {
      "cell_type": "code",
      "source": [
        "!npm install -g degit\n",
        "!pip install opencv-python pytesseract"
      ],
      "metadata": {
        "id": "qBsWyxU4XD1C"
      },
      "execution_count": null,
      "outputs": []
    },
    {
      "cell_type": "code",
      "source": [
        "!npx degit zakarka2006/famcs2024/images -f ./images"
      ],
      "metadata": {
        "collapsed": true,
        "id": "QGA8-djfVn4Y"
      },
      "execution_count": null,
      "outputs": []
    },
    {
      "cell_type": "markdown",
      "source": [
        "# Letters 1\n",
        "Начнем с букв: почему-то я сразу начал думать в сторону opencv, как минимум для решения пунктов 2-3, поэтому решение получилось немного \"костыльным\". Я вырезал отдельные картинки букв размером 60х60 пикселей, но перед этим выкрутил контраст на максимум, чтобы не терять деталей. (Все картинки в папке `./images`)\n",
        "\n",
        "Как я считаю буквы:\n",
        "1. Преобразование картинки: функция переводит картинку в ч/б формат и увеличивает контрастность\n",
        "2. Предобработка изображения: функция загружает изображение и преобразует его в черно-белое. Затем применяется бинаризация с инверсией, чтобы буквы стали белыми на черном фоне.\n",
        "3. Поиск контуров: на этом этапе я нахожу контуры на бинарном изображении. Найденные контура - это области, содержащие буквы.\n",
        "4. Подготовка шаблонов для букв: функция создает шаблоны для каждой буквы. Изображения букв предварительно обрабатываются и извлекаются их контуры. Шаблоны сохраняются в словаре для последующего использования.\n",
        "5. Сопоставление контуров: каждый найденный контур на картинке сопоставляется с шаблоном буквы, в итоге для каждого контура выбирается более подходящий шаблон буквы\n",
        "\n",
        "Конечно, я пробовал прикрутить ocr для этой задачи, но не все буквы определялись правильно со 100% вероятностью. Поэтому отошел от этой идеи. Работу этого кода проверял вручную на небольших картинках по 8х8 букв, ошибок не нашел, так что должно работать :D."
      ],
      "metadata": {
        "id": "lCkdxwengSoC"
      }
    },
    {
      "cell_type": "code",
      "execution_count": null,
      "metadata": {
        "id": "1m5C_S-M_Rwd"
      },
      "outputs": [],
      "source": [
        "import cv2\n",
        "import numpy as np\n",
        "from collections import Counter\n",
        "from PIL import Image, ImageEnhance\n",
        "\n",
        "Image.MAX_IMAGE_PIXELS = 100000000\n",
        "def maximize_contrast(image_path):\n",
        "    image = Image.open(image_path)\n",
        "    image = image.convert(\"L\")\n",
        "    enhancer = ImageEnhance.Contrast(image)\n",
        "    max_contrast_image = enhancer.enhance(10)\n",
        "    max_contrast_image.save(f\"{image_path[:-4]}_contrast.png\")\n",
        "\n",
        "def preprocess_image(image_path):\n",
        "    image = cv2.imread(image_path, cv2.IMREAD_GRAYSCALE)\n",
        "    _, binary_image = cv2.threshold(image, 128, 255, cv2.THRESH_BINARY_INV + cv2.THRESH_OTSU)\n",
        "    return binary_image\n",
        "\n",
        "def find_contours(binary_image):\n",
        "    contours, _ = cv2.findContours(binary_image, cv2.RETR_EXTERNAL, cv2.CHAIN_APPROX_SIMPLE)\n",
        "    return contours\n",
        "\n",
        "def create_letter_templates():\n",
        "    templates = {}\n",
        "    for letter in \"ABCDEFGHIJKLMNOPQRSTUVWXYZ\":\n",
        "        template_path = f\"./images/letters/{letter}.png\"\n",
        "        template_image = preprocess_image(template_path)\n",
        "        contours = find_contours(template_image)\n",
        "        if contours:\n",
        "            templates[letter] = contours\n",
        "    return templates\n",
        "\n",
        "def match_letters(image, templates):\n",
        "    detected_letters = []\n",
        "    contours = find_contours(image)\n",
        "    for contour in contours:\n",
        "        x, y, w, h = cv2.boundingRect(contour)\n",
        "        letter_image = image[y:y+h, x:x+w]\n",
        "        max_match = float(\"inf\")\n",
        "        matched_letter = \"\"\n",
        "        for letter, template_contours in templates.items():\n",
        "            for template_contour in template_contours:\n",
        "                match = cv2.matchShapes(template_contour, contour, cv2.CONTOURS_MATCH_I3, 0.0)\n",
        "                if match < max_match:\n",
        "                    max_match = match\n",
        "                    matched_letter = letter\n",
        "        detected_letters.append(matched_letter)\n",
        "    return detected_letters\n",
        "\n",
        "def count_letters():\n",
        "    maximize_contrast(\"./images/letters.png\")\n",
        "    binary_image = preprocess_image(\"./images/letters_contrast.png\")\n",
        "    templates = create_letter_templates()\n",
        "    detected_letters = match_letters(binary_image, templates)\n",
        "\n",
        "    letter_count = Counter(detected_letters)\n",
        "    sorted_letters = sorted(letter_count.items())\n",
        "    total_count = 0\n",
        "\n",
        "    for letter, count in sorted_letters:\n",
        "        if not letter.isalpha():\n",
        "            continue\n",
        "        total_count += count\n",
        "        print(f\"{letter}: {count}\")\n",
        "\n",
        "    print(f\"Total: {total_count}\")\n",
        "\n",
        "count_letters()"
      ]
    },
    {
      "cell_type": "markdown",
      "source": [
        "# Letters 2\n",
        "Самый простой пункт, по моему мнению, т.к. все просто сводится к нахождению контуров букв и отрисовки рамок вокруг них.\n",
        "\n",
        "Итоговая картинка лежит в `./images/letters_rectangles.png`\n",
        "\n"
      ],
      "metadata": {
        "id": "M8mrVWW3ets5"
      }
    },
    {
      "cell_type": "code",
      "source": [
        "import cv2\n",
        "import numpy as np\n",
        "import time\n",
        "\n",
        "def add_bounding_boxes_letters():\n",
        "    padding = 2\n",
        "    thickness = 3\n",
        "    maximize_contrast(\"./images/letters.png\")\n",
        "    img = cv2.imread(\"./images/letters_contrast.png\")\n",
        "\n",
        "    gray = cv2.cvtColor(img, cv2.COLOR_BGR2GRAY)\n",
        "\n",
        "    _, thresh = cv2.threshold(gray, 0, 255, cv2.THRESH_BINARY_INV + cv2.THRESH_OTSU)\n",
        "\n",
        "    kernel = np.ones((3, 3), np.uint8)\n",
        "    img_erode = cv2.erode(thresh, kernel, iterations=1)\n",
        "\n",
        "    contours, _ = cv2.findContours(img_erode, cv2.RETR_EXTERNAL, cv2.CHAIN_APPROX_SIMPLE)\n",
        "\n",
        "    output = cv2.imread(\"./images/letters.png\")\n",
        "    padding += thickness\n",
        "    for contour in contours:\n",
        "        x, y, w, h = cv2.boundingRect(contour)\n",
        "        x_pad = max(x - padding - 1, 0)\n",
        "        y_pad = max(y - padding - 1, 0)\n",
        "        dx = (0 - (x - padding - 1)) if x_pad == 0 else 0 # для букв возле левой границы\n",
        "        w_pad = w + 2*padding + 1 - dx\n",
        "        h_pad = h + 2*padding + 1\n",
        "\n",
        "        border_color = (0, 0, 0)\n",
        "        cv2.line(output, (x_pad, y_pad), (x_pad + w_pad, y_pad), border_color, thickness)\n",
        "        cv2.line(output, (x_pad, y_pad + h_pad), (x_pad + w_pad, y_pad + h_pad), border_color, thickness)\n",
        "        cv2.line(output, (x_pad + w_pad, y_pad), (x_pad + w_pad, y_pad + h_pad), border_color, thickness)\n",
        "        if dx == 0:\n",
        "            cv2.line(output, (x_pad, y_pad), (x_pad, y_pad + h_pad), border_color, thickness)\n",
        "\n",
        "    cv2.imwrite(\"./images/letters_rectangles.png\", output)\n",
        "    print(\"Done\")\n",
        "\n",
        "add_bounding_boxes_letters()"
      ],
      "metadata": {
        "id": "qnC8Be3keD7n"
      },
      "execution_count": null,
      "outputs": []
    },
    {
      "cell_type": "markdown",
      "source": [
        "# Letters 3\n",
        "Можно немного изменить второй код и вместо рамок рисовать фон под буквами\n",
        "Как работает:\n",
        "1. Поиск контуров\n",
        "2. Выбор самого встречающегося цвета в пределах контура\n",
        "3. Наложение прямоугольной рамки\n",
        "4. Наложение буквы на итоговую картинку с помощью маски\n",
        "\n",
        "Итоговая картинка лежит в `./images/letters_backgrounds.png`\n"
      ],
      "metadata": {
        "id": "tHNv9K-QlrYs"
      }
    },
    {
      "cell_type": "code",
      "source": [
        "import cv2\n",
        "import numpy as np\n",
        "import time\n",
        "\n",
        "def add_background_letters():\n",
        "    maximize_contrast(\"./images/letters.png\")\n",
        "    img = cv2.imread(\"./images/letters_contrast.png\")\n",
        "\n",
        "    gray = cv2.cvtColor(img, cv2.COLOR_BGR2GRAY)\n",
        "    _, binary = cv2.threshold(gray, 1, 255, cv2.THRESH_BINARY_INV + cv2.THRESH_OTSU)\n",
        "    contours, _ = cv2.findContours(binary, cv2.RETR_EXTERNAL, cv2.CHAIN_APPROX_SIMPLE)\n",
        "    margin = 3\n",
        "\n",
        "    imgc = cv2.imread(\"./images/letters.png\")\n",
        "    output = imgc.copy()\n",
        "    for contour in contours:\n",
        "        x, y, w, h = cv2.boundingRect(contour)\n",
        "\n",
        "        letter_color = np.mean(output[y:y+h, x:x+w], axis=(0, 1))\n",
        "\n",
        "        background_color = [255 - int(c) for c in letter_color]\n",
        "\n",
        "        cv2.rectangle(output, (x-margin, y-margin), (x+w+margin, y+h+margin), background_color, -1)\n",
        "\n",
        "        letter_region = imgc[y:y+h, x:x+w]\n",
        "        mask = binary[y:y+h, x:x+w]\n",
        "        mask_inv = cv2.bitwise_not(mask)\n",
        "        bg = cv2.bitwise_and(output[y:y+h, x:x+w], output[y:y+h, x:x+w], mask=mask_inv)\n",
        "        fg = cv2.bitwise_and(letter_region, letter_region, mask=mask)\n",
        "        output[y:y+h, x:x+w] = cv2.add(bg, fg)\n",
        "\n",
        "    cv2.imwrite(\"./images/letters_backgrounds.png\", output)\n",
        "    print(\"Done\")\n",
        "\n",
        "add_background_letters()"
      ],
      "metadata": {
        "id": "FqH84hENltG_"
      },
      "execution_count": 34,
      "outputs": []
    }
  ]
}