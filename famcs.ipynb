{
  "cells": [
    {
      "cell_type": "markdown",
      "metadata": {
        "id": "view-in-github",
        "colab_type": "text"
      },
      "source": [
        "<a href=\"https://colab.research.google.com/github/zakarka2006/famcs2024/blob/main/famcs.ipynb\" target=\"_parent\"><img src=\"https://colab.research.google.com/assets/colab-badge.svg\" alt=\"Open In Colab\"/></a>"
      ]
    },
    {
      "cell_type": "markdown",
      "metadata": {
        "id": "L2neald1YFfO"
      },
      "source": [
        "Установите библиотеки и скачайте картинки, затем по очереди запускайте блоки с кодом."
      ]
    },
    {
      "cell_type": "code",
      "execution_count": null,
      "metadata": {
        "colab": {
          "base_uri": "https://localhost:8080/"
        },
        "id": "qBsWyxU4XD1C",
        "outputId": "ff04d56f-0f01-4576-d727-b3fe8ab0c465"
      },
      "outputs": [
        {
          "name": "stdout",
          "output_type": "stream",
          "text": [
            "\u001b[K\u001b[?25h\n",
            "added 1 package, and audited 2 packages in 3s\n",
            "\n",
            "found \u001b[32m\u001b[1m0\u001b[22m\u001b[39m vulnerabilities\n",
            "Requirement already satisfied: opencv-python in /usr/local/lib/python3.10/dist-packages (4.10.0.84)\n",
            "Requirement already satisfied: numpy>=1.21.2 in /usr/local/lib/python3.10/dist-packages (from opencv-python) (1.26.4)\n",
            "Collecting easyocr\n",
            "  Downloading easyocr-1.7.1-py3-none-any.whl.metadata (11 kB)\n",
            "Requirement already satisfied: torch in /usr/local/lib/python3.10/dist-packages (from easyocr) (2.3.1+cu121)\n",
            "Requirement already satisfied: torchvision>=0.5 in /usr/local/lib/python3.10/dist-packages (from easyocr) (0.18.1+cu121)\n",
            "Requirement already satisfied: opencv-python-headless in /usr/local/lib/python3.10/dist-packages (from easyocr) (4.10.0.84)\n",
            "Requirement already satisfied: scipy in /usr/local/lib/python3.10/dist-packages (from easyocr) (1.13.1)\n",
            "Requirement already satisfied: numpy in /usr/local/lib/python3.10/dist-packages (from easyocr) (1.26.4)\n",
            "Requirement already satisfied: Pillow in /usr/local/lib/python3.10/dist-packages (from easyocr) (9.4.0)\n",
            "Requirement already satisfied: scikit-image in /usr/local/lib/python3.10/dist-packages (from easyocr) (0.23.2)\n",
            "Collecting python-bidi (from easyocr)\n",
            "  Downloading python_bidi-0.6.0-cp310-cp310-manylinux_2_17_x86_64.manylinux2014_x86_64.whl.metadata (4.6 kB)\n",
            "Requirement already satisfied: PyYAML in /usr/local/lib/python3.10/dist-packages (from easyocr) (6.0.1)\n",
            "Requirement already satisfied: Shapely in /usr/local/lib/python3.10/dist-packages (from easyocr) (2.0.5)\n",
            "Collecting pyclipper (from easyocr)\n",
            "  Downloading pyclipper-1.3.0.post5-cp310-cp310-manylinux_2_12_x86_64.manylinux2010_x86_64.whl.metadata (9.0 kB)\n",
            "Collecting ninja (from easyocr)\n",
            "  Downloading ninja-1.11.1.1-py2.py3-none-manylinux1_x86_64.manylinux_2_5_x86_64.whl.metadata (5.3 kB)\n",
            "Requirement already satisfied: filelock in /usr/local/lib/python3.10/dist-packages (from torch->easyocr) (3.15.4)\n",
            "Requirement already satisfied: typing-extensions>=4.8.0 in /usr/local/lib/python3.10/dist-packages (from torch->easyocr) (4.12.2)\n",
            "Requirement already satisfied: sympy in /usr/local/lib/python3.10/dist-packages (from torch->easyocr) (1.13.1)\n",
            "Requirement already satisfied: networkx in /usr/local/lib/python3.10/dist-packages (from torch->easyocr) (3.3)\n",
            "Requirement already satisfied: jinja2 in /usr/local/lib/python3.10/dist-packages (from torch->easyocr) (3.1.4)\n",
            "Requirement already satisfied: fsspec in /usr/local/lib/python3.10/dist-packages (from torch->easyocr) (2024.6.1)\n",
            "Collecting nvidia-cuda-nvrtc-cu12==12.1.105 (from torch->easyocr)\n",
            "  Using cached nvidia_cuda_nvrtc_cu12-12.1.105-py3-none-manylinux1_x86_64.whl.metadata (1.5 kB)\n",
            "Collecting nvidia-cuda-runtime-cu12==12.1.105 (from torch->easyocr)\n",
            "  Using cached nvidia_cuda_runtime_cu12-12.1.105-py3-none-manylinux1_x86_64.whl.metadata (1.5 kB)\n",
            "Collecting nvidia-cuda-cupti-cu12==12.1.105 (from torch->easyocr)\n",
            "  Using cached nvidia_cuda_cupti_cu12-12.1.105-py3-none-manylinux1_x86_64.whl.metadata (1.6 kB)\n",
            "Collecting nvidia-cudnn-cu12==8.9.2.26 (from torch->easyocr)\n",
            "  Using cached nvidia_cudnn_cu12-8.9.2.26-py3-none-manylinux1_x86_64.whl.metadata (1.6 kB)\n",
            "Collecting nvidia-cublas-cu12==12.1.3.1 (from torch->easyocr)\n",
            "  Using cached nvidia_cublas_cu12-12.1.3.1-py3-none-manylinux1_x86_64.whl.metadata (1.5 kB)\n",
            "Collecting nvidia-cufft-cu12==11.0.2.54 (from torch->easyocr)\n",
            "  Using cached nvidia_cufft_cu12-11.0.2.54-py3-none-manylinux1_x86_64.whl.metadata (1.5 kB)\n",
            "Collecting nvidia-curand-cu12==10.3.2.106 (from torch->easyocr)\n",
            "  Using cached nvidia_curand_cu12-10.3.2.106-py3-none-manylinux1_x86_64.whl.metadata (1.5 kB)\n",
            "Collecting nvidia-cusolver-cu12==11.4.5.107 (from torch->easyocr)\n",
            "  Using cached nvidia_cusolver_cu12-11.4.5.107-py3-none-manylinux1_x86_64.whl.metadata (1.6 kB)\n",
            "Collecting nvidia-cusparse-cu12==12.1.0.106 (from torch->easyocr)\n",
            "  Using cached nvidia_cusparse_cu12-12.1.0.106-py3-none-manylinux1_x86_64.whl.metadata (1.6 kB)\n",
            "Collecting nvidia-nccl-cu12==2.20.5 (from torch->easyocr)\n",
            "  Using cached nvidia_nccl_cu12-2.20.5-py3-none-manylinux2014_x86_64.whl.metadata (1.8 kB)\n",
            "Collecting nvidia-nvtx-cu12==12.1.105 (from torch->easyocr)\n",
            "  Using cached nvidia_nvtx_cu12-12.1.105-py3-none-manylinux1_x86_64.whl.metadata (1.7 kB)\n",
            "Requirement already satisfied: triton==2.3.1 in /usr/local/lib/python3.10/dist-packages (from torch->easyocr) (2.3.1)\n",
            "Collecting nvidia-nvjitlink-cu12 (from nvidia-cusolver-cu12==11.4.5.107->torch->easyocr)\n",
            "  Downloading nvidia_nvjitlink_cu12-12.6.20-py3-none-manylinux2014_x86_64.whl.metadata (1.5 kB)\n",
            "Requirement already satisfied: imageio>=2.33 in /usr/local/lib/python3.10/dist-packages (from scikit-image->easyocr) (2.34.2)\n",
            "Requirement already satisfied: tifffile>=2022.8.12 in /usr/local/lib/python3.10/dist-packages (from scikit-image->easyocr) (2024.7.24)\n",
            "Requirement already satisfied: packaging>=21 in /usr/local/lib/python3.10/dist-packages (from scikit-image->easyocr) (24.1)\n",
            "Requirement already satisfied: lazy-loader>=0.4 in /usr/local/lib/python3.10/dist-packages (from scikit-image->easyocr) (0.4)\n",
            "Requirement already satisfied: MarkupSafe>=2.0 in /usr/local/lib/python3.10/dist-packages (from jinja2->torch->easyocr) (2.1.5)\n",
            "Requirement already satisfied: mpmath<1.4,>=1.1.0 in /usr/local/lib/python3.10/dist-packages (from sympy->torch->easyocr) (1.3.0)\n",
            "Downloading easyocr-1.7.1-py3-none-any.whl (2.9 MB)\n",
            "\u001b[2K   \u001b[90m━━━━━━━━━━━━━━━━━━━━━━━━━━━━━━━━━━━━━━━━\u001b[0m \u001b[32m2.9/2.9 MB\u001b[0m \u001b[31m22.8 MB/s\u001b[0m eta \u001b[36m0:00:00\u001b[0m\n",
            "\u001b[?25hUsing cached nvidia_cublas_cu12-12.1.3.1-py3-none-manylinux1_x86_64.whl (410.6 MB)\n",
            "Using cached nvidia_cuda_cupti_cu12-12.1.105-py3-none-manylinux1_x86_64.whl (14.1 MB)\n",
            "Using cached nvidia_cuda_nvrtc_cu12-12.1.105-py3-none-manylinux1_x86_64.whl (23.7 MB)\n",
            "Using cached nvidia_cuda_runtime_cu12-12.1.105-py3-none-manylinux1_x86_64.whl (823 kB)\n",
            "Using cached nvidia_cudnn_cu12-8.9.2.26-py3-none-manylinux1_x86_64.whl (731.7 MB)\n",
            "Using cached nvidia_cufft_cu12-11.0.2.54-py3-none-manylinux1_x86_64.whl (121.6 MB)\n",
            "Using cached nvidia_curand_cu12-10.3.2.106-py3-none-manylinux1_x86_64.whl (56.5 MB)\n",
            "Using cached nvidia_cusolver_cu12-11.4.5.107-py3-none-manylinux1_x86_64.whl (124.2 MB)\n",
            "Using cached nvidia_cusparse_cu12-12.1.0.106-py3-none-manylinux1_x86_64.whl (196.0 MB)\n",
            "Using cached nvidia_nccl_cu12-2.20.5-py3-none-manylinux2014_x86_64.whl (176.2 MB)\n",
            "Using cached nvidia_nvtx_cu12-12.1.105-py3-none-manylinux1_x86_64.whl (99 kB)\n",
            "Downloading ninja-1.11.1.1-py2.py3-none-manylinux1_x86_64.manylinux_2_5_x86_64.whl (307 kB)\n",
            "\u001b[2K   \u001b[90m━━━━━━━━━━━━━━━━━━━━━━━━━━━━━━━━━━━━━━━━\u001b[0m \u001b[32m307.2/307.2 kB\u001b[0m \u001b[31m1.1 MB/s\u001b[0m eta \u001b[36m0:00:00\u001b[0m\n",
            "\u001b[?25hDownloading pyclipper-1.3.0.post5-cp310-cp310-manylinux_2_12_x86_64.manylinux2010_x86_64.whl (908 kB)\n",
            "\u001b[2K   \u001b[90m━━━━━━━━━━━━━━━━━━━━━━━━━━━━━━━━━━━━━━━━\u001b[0m \u001b[32m908.3/908.3 kB\u001b[0m \u001b[31m25.7 MB/s\u001b[0m eta \u001b[36m0:00:00\u001b[0m\n",
            "\u001b[?25hDownloading python_bidi-0.6.0-cp310-cp310-manylinux_2_17_x86_64.manylinux2014_x86_64.whl (281 kB)\n",
            "\u001b[2K   \u001b[90m━━━━━━━━━━━━━━━━━━━━━━━━━━━━━━━━━━━━━━━━\u001b[0m \u001b[32m281.3/281.3 kB\u001b[0m \u001b[31m20.8 MB/s\u001b[0m eta \u001b[36m0:00:00\u001b[0m\n",
            "\u001b[?25hDownloading nvidia_nvjitlink_cu12-12.6.20-py3-none-manylinux2014_x86_64.whl (19.7 MB)\n",
            "\u001b[2K   \u001b[90m━━━━━━━━━━━━━━━━━━━━━━━━━━━━━━━━━━━━━━━━\u001b[0m \u001b[32m19.7/19.7 MB\u001b[0m \u001b[31m71.8 MB/s\u001b[0m eta \u001b[36m0:00:00\u001b[0m\n",
            "\u001b[?25hInstalling collected packages: python-bidi, pyclipper, ninja, nvidia-nvtx-cu12, nvidia-nvjitlink-cu12, nvidia-nccl-cu12, nvidia-curand-cu12, nvidia-cufft-cu12, nvidia-cuda-runtime-cu12, nvidia-cuda-nvrtc-cu12, nvidia-cuda-cupti-cu12, nvidia-cublas-cu12, nvidia-cusparse-cu12, nvidia-cudnn-cu12, nvidia-cusolver-cu12, easyocr\n",
            "Successfully installed easyocr-1.7.1 ninja-1.11.1.1 nvidia-cublas-cu12-12.1.3.1 nvidia-cuda-cupti-cu12-12.1.105 nvidia-cuda-nvrtc-cu12-12.1.105 nvidia-cuda-runtime-cu12-12.1.105 nvidia-cudnn-cu12-8.9.2.26 nvidia-cufft-cu12-11.0.2.54 nvidia-curand-cu12-10.3.2.106 nvidia-cusolver-cu12-11.4.5.107 nvidia-cusparse-cu12-12.1.0.106 nvidia-nccl-cu12-2.20.5 nvidia-nvjitlink-cu12-12.6.20 nvidia-nvtx-cu12-12.1.105 pyclipper-1.3.0.post5 python-bidi-0.6.0\n"
          ]
        }
      ],
      "source": [
        "!npm install -g degit\n",
        "!pip install opencv-python\n",
        "!pip install easyocr"
      ]
    },
    {
      "cell_type": "code",
      "execution_count": null,
      "metadata": {
        "colab": {
          "base_uri": "https://localhost:8080/"
        },
        "collapsed": true,
        "id": "QGA8-djfVn4Y",
        "outputId": "b2227e0c-8d68-49f3-eba7-d3bd2318f87f"
      },
      "outputs": [
        {
          "name": "stdout",
          "output_type": "stream",
          "text": [
            "\u001b[36m> cloned \u001b[1mzakarka2006/famcs2024\u001b[22m#\u001b[1mHEAD\u001b[22m to ./images\u001b[39m\n"
          ]
        }
      ],
      "source": [
        "!npx degit zakarka2006/famcs2024/images -f ./images"
      ]
    },
    {
      "cell_type": "markdown",
      "metadata": {
        "id": "lCkdxwengSoC"
      },
      "source": [
        "# Letters 1\n",
        "Начнем с букв: почему-то я сразу начал думать в сторону opencv, как минимум для решения пунктов 2-3, поэтому решение получилось немного \"костыльным\". Я вырезал отдельные картинки букв размером 60х60 пикселей, но перед этим выкрутил контраст на максимум, чтобы не терять деталей. (Все картинки в папке `./images`)\n",
        "\n",
        "Как я считаю буквы:\n",
        "1. Преобразование картинки: функция переводит картинку в ч/б формат и увеличивает контрастность\n",
        "2. Предобработка изображения: функция загружает изображение и преобразует его в черно-белое. Затем применяется бинаризация с инверсией, чтобы буквы стали белыми на черном фоне.\n",
        "3. Поиск контуров: на этом этапе я нахожу контуры на бинарном изображении. Найденные контура - это области, содержащие буквы.\n",
        "4. Подготовка шаблонов для букв: функция создает шаблоны для каждой буквы. Изображения букв предварительно обрабатываются и извлекаются их контуры. Шаблоны сохраняются в словаре для последующего использования.\n",
        "5. Сопоставление контуров: каждый найденный контур на картинке сопоставляется с шаблоном буквы, в итоге для каждого контура выбирается более подходящий шаблон буквы\n",
        "\n",
        "Конечно, я пробовал прикрутить ocr для этой задачи, но не все буквы определялись правильно со 100% вероятностью. Поэтому отошел от этой идеи. Работу этого кода проверял вручную на небольших картинках по 8х8 букв, ошибок не нашел, так что должно работать :D."
      ]
    },
    {
      "cell_type": "code",
      "execution_count": null,
      "metadata": {
        "colab": {
          "base_uri": "https://localhost:8080/"
        },
        "id": "1m5C_S-M_Rwd",
        "outputId": "489d8b9c-c3dc-4ddf-d247-d88398f94634"
      },
      "outputs": [
        {
          "name": "stdout",
          "output_type": "stream",
          "text": [
            "A: 651\n",
            "B: 565\n",
            "C: 935\n",
            "D: 498\n",
            "E: 20\n",
            "F: 183\n",
            "G: 557\n",
            "H: 740\n",
            "I: 797\n",
            "J: 322\n",
            "K: 562\n",
            "L: 188\n",
            "M: 727\n",
            "N: 762\n",
            "O: 371\n",
            "P: 86\n",
            "Q: 188\n",
            "R: 657\n",
            "S: 630\n",
            "T: 169\n",
            "U: 763\n",
            "V: 888\n",
            "W: 526\n",
            "X: 70\n",
            "Y: 857\n",
            "Z: 744\n",
            "Total: 13456\n"
          ]
        }
      ],
      "source": [
        "import cv2\n",
        "import numpy as np\n",
        "from collections import Counter\n",
        "from PIL import Image, ImageEnhance\n",
        "\n",
        "Image.MAX_IMAGE_PIXELS = 100000000\n",
        "def maximize_contrast(image_path):\n",
        "    image = Image.open(image_path)\n",
        "    image = image.convert(\"L\")\n",
        "    enhancer = ImageEnhance.Contrast(image)\n",
        "    max_contrast_image = enhancer.enhance(10)\n",
        "    max_contrast_image.save(f\"{image_path[:-4]}_contrast.png\")\n",
        "\n",
        "def preprocess_image(image_path):\n",
        "    image = cv2.imread(image_path, cv2.IMREAD_GRAYSCALE)\n",
        "    _, binary_image = cv2.threshold(image, 128, 255, cv2.THRESH_BINARY_INV + cv2.THRESH_OTSU)\n",
        "    return binary_image\n",
        "\n",
        "def find_contours(binary_image):\n",
        "    contours, _ = cv2.findContours(binary_image, cv2.RETR_EXTERNAL, cv2.CHAIN_APPROX_SIMPLE)\n",
        "    return contours\n",
        "\n",
        "def create_letter_templates():\n",
        "    templates = {}\n",
        "    for letter in \"ABCDEFGHIJKLMNOPQRSTUVWXYZ\":\n",
        "        template_path = f\"./images/letters/{letter}.png\"\n",
        "        template_image = preprocess_image(template_path)\n",
        "        contours = find_contours(template_image)\n",
        "        if contours:\n",
        "            templates[letter] = contours\n",
        "    return templates\n",
        "\n",
        "def match_letters(image, templates):\n",
        "    detected_letters = []\n",
        "    contours = find_contours(image)\n",
        "    for contour in contours:\n",
        "        x, y, w, h = cv2.boundingRect(contour)\n",
        "        letter_image = image[y:y+h, x:x+w]\n",
        "        max_match = float(\"inf\")\n",
        "        matched_letter = \"\"\n",
        "        for letter, template_contours in templates.items():\n",
        "            for template_contour in template_contours:\n",
        "                match = cv2.matchShapes(template_contour, contour, cv2.CONTOURS_MATCH_I3, 0.0)\n",
        "                if match < max_match:\n",
        "                    max_match = match\n",
        "                    matched_letter = letter\n",
        "        detected_letters.append(matched_letter)\n",
        "    return detected_letters\n",
        "\n",
        "def count_letters():\n",
        "    maximize_contrast(\"./images/letters.png\")\n",
        "    binary_image = preprocess_image(\"./images/letters_contrast.png\")\n",
        "    templates = create_letter_templates()\n",
        "    detected_letters = match_letters(binary_image, templates)\n",
        "\n",
        "    letter_count = Counter(detected_letters)\n",
        "    sorted_letters = sorted(letter_count.items())\n",
        "    total_count = 0\n",
        "\n",
        "    for letter, count in sorted_letters:\n",
        "        if not letter.isalpha():\n",
        "            continue\n",
        "        total_count += count\n",
        "        print(f\"{letter}: {count}\")\n",
        "\n",
        "    print(f\"Total: {total_count}\")\n",
        "\n",
        "count_letters()"
      ]
    },
    {
      "cell_type": "markdown",
      "metadata": {
        "id": "M8mrVWW3ets5"
      },
      "source": [
        "# Letters 2\n",
        "Самый простой пункт, по моему мнению, т.к. все просто сводится к нахождению контуров букв и отрисовки рамок вокруг них.\n",
        "\n",
        "Итоговая картинка лежит в `./images/letters_rectangles.png`\n",
        "\n"
      ]
    },
    {
      "cell_type": "code",
      "execution_count": null,
      "metadata": {
        "colab": {
          "base_uri": "https://localhost:8080/"
        },
        "id": "qnC8Be3keD7n",
        "outputId": "b5397b60-e1b2-4fd5-9ae6-42a81f07ff9b"
      },
      "outputs": [
        {
          "name": "stdout",
          "output_type": "stream",
          "text": [
            "Done\n"
          ]
        }
      ],
      "source": [
        "import cv2\n",
        "import numpy as np\n",
        "import time\n",
        "\n",
        "def add_bounding_boxes_letters():\n",
        "    padding = 2\n",
        "    thickness = 3\n",
        "    maximize_contrast(\"./images/letters.png\")\n",
        "    img = cv2.imread(\"./images/letters_contrast.png\")\n",
        "\n",
        "    gray = cv2.cvtColor(img, cv2.COLOR_BGR2GRAY)\n",
        "\n",
        "    _, thresh = cv2.threshold(gray, 0, 255, cv2.THRESH_BINARY_INV + cv2.THRESH_OTSU)\n",
        "\n",
        "    kernel = np.ones((3, 3), np.uint8)\n",
        "    img_erode = cv2.erode(thresh, kernel, iterations=1)\n",
        "\n",
        "    contours, _ = cv2.findContours(img_erode, cv2.RETR_EXTERNAL, cv2.CHAIN_APPROX_SIMPLE)\n",
        "\n",
        "    output = cv2.imread(\"./images/letters.png\")\n",
        "    padding += thickness\n",
        "    for contour in contours:\n",
        "        x, y, w, h = cv2.boundingRect(contour)\n",
        "        x_pad = max(x - padding - 1, 0)\n",
        "        y_pad = max(y - padding - 1, 0)\n",
        "        dx = (0 - (x - padding - 1)) if x_pad == 0 else 0 # для букв возле левой границы\n",
        "        w_pad = w + 2*padding + 1 - dx\n",
        "        h_pad = h + 2*padding + 1\n",
        "\n",
        "        border_color = (0, 0, 0)\n",
        "        cv2.line(output, (x_pad, y_pad), (x_pad + w_pad, y_pad), border_color, thickness)\n",
        "        cv2.line(output, (x_pad, y_pad + h_pad), (x_pad + w_pad, y_pad + h_pad), border_color, thickness)\n",
        "        cv2.line(output, (x_pad + w_pad, y_pad), (x_pad + w_pad, y_pad + h_pad), border_color, thickness)\n",
        "        if dx == 0:\n",
        "            cv2.line(output, (x_pad, y_pad), (x_pad, y_pad + h_pad), border_color, thickness)\n",
        "\n",
        "    cv2.imwrite(\"./images/letters_rectangles.png\", output)\n",
        "    print(\"Done\")\n",
        "\n",
        "add_bounding_boxes_letters()"
      ]
    },
    {
      "cell_type": "markdown",
      "metadata": {
        "id": "tHNv9K-QlrYs"
      },
      "source": [
        "# Letters 3\n",
        "Можно немного изменить второй код и вместо рамок рисовать фон под буквами\n",
        "Как работает:\n",
        "1. Поиск контуров\n",
        "2. Выбор самого встречающегося цвета в пределах контура\n",
        "3. Наложение прямоугольной рамки\n",
        "4. Наложение буквы на итоговую картинку с помощью маски\n",
        "\n",
        "Итоговая картинка лежит в `./images/letters_backgrounds.png`\n"
      ]
    },
    {
      "cell_type": "code",
      "execution_count": null,
      "metadata": {
        "colab": {
          "base_uri": "https://localhost:8080/"
        },
        "id": "FqH84hENltG_",
        "outputId": "094ab891-3298-45ea-80c5-0952c878858f"
      },
      "outputs": [
        {
          "name": "stdout",
          "output_type": "stream",
          "text": [
            "Done\n"
          ]
        }
      ],
      "source": [
        "import cv2\n",
        "import numpy as np\n",
        "import time\n",
        "\n",
        "def add_background_letters():\n",
        "    maximize_contrast(\"./images/letters.png\")\n",
        "    img = cv2.imread(\"./images/letters_contrast.png\")\n",
        "\n",
        "    gray = cv2.cvtColor(img, cv2.COLOR_BGR2GRAY)\n",
        "    _, binary = cv2.threshold(gray, 1, 255, cv2.THRESH_BINARY_INV + cv2.THRESH_OTSU)\n",
        "    contours, _ = cv2.findContours(binary, cv2.RETR_EXTERNAL, cv2.CHAIN_APPROX_SIMPLE)\n",
        "    margin = 3\n",
        "\n",
        "    imgc = cv2.imread(\"./images/letters.png\")\n",
        "    output = imgc.copy()\n",
        "    for contour in contours:\n",
        "        x, y, w, h = cv2.boundingRect(contour)\n",
        "\n",
        "        letter_color = np.mean(output[y:y+h, x:x+w], axis=(0, 1))\n",
        "\n",
        "        background_color = [255 - int(c) for c in letter_color]\n",
        "\n",
        "        cv2.rectangle(output, (x-margin, y-margin), (x+w+margin, y+h+margin), background_color, -1)\n",
        "\n",
        "        letter_region = imgc[y:y+h, x:x+w]\n",
        "        mask = binary[y:y+h, x:x+w]\n",
        "        mask_inv = cv2.bitwise_not(mask)\n",
        "        bg = cv2.bitwise_and(output[y:y+h, x:x+w], output[y:y+h, x:x+w], mask=mask_inv)\n",
        "        fg = cv2.bitwise_and(letter_region, letter_region, mask=mask)\n",
        "        output[y:y+h, x:x+w] = cv2.add(bg, fg)\n",
        "\n",
        "    cv2.imwrite(\"./images/letters_backgrounds.png\", output)\n",
        "    print(\"Done\")\n",
        "\n",
        "add_background_letters()"
      ]
    },
    {
      "cell_type": "markdown",
      "metadata": {
        "id": "PdCIOkl6LM_Q"
      },
      "source": [
        "# Words 5, 6\n",
        "Так как мое \"чудесное\" решение зависит от нахождения контуров, то пришлось придумывать что-то другое для слов, потому что они расположены хаотично на картинке. Ввиду недостатка времени пришлось костылять: сначала пробовал искать контуры для слов только с помощью OpenCV, но еще во время поиска инстументов для распознавания символов наткнулся на библиотеку `easyocr`, так что первоначальное определение контуров она взяла на себя, а затем я с помощью OpenCV доделывал работу. Идея такая:\n",
        "1. Получить список контуров с помощью `easyocr`\n",
        "2. Отсортировать слова на 2 типа: вертикальные и горизонтальные\n",
        "3. Внутри этих контуров уже искать настоящие контуры слов\n",
        "4. Финальные манипуляции с картинкой\n",
        "\n",
        "Разделить и почистить код времени не было, так что тут все 3 пункта в одной куче.\n",
        "\n",
        "Итоговые картинки: `./images/words_rectangles.png`, `./images/words_backgrounds.png`\n",
        "\n",
        "P.S.: идеального результата добиться не удалось, опять же, из-за хаотичного расположения слов, но по бОльшая часть слов определяется хорошо(если контур нашелся, то с рамкой и фоном все ок будет)\n",
        "\n",
        "P.S. 2: а еще есть косяк с разделением слова на 2 части, т.е. есть линия посреди слова :("
      ]
    },
    {
      "cell_type": "code",
      "execution_count": null,
      "metadata": {
        "id": "xFDSJ_t6oKGm"
      },
      "outputs": [],
      "source": [
        "import easyocr\n",
        "import cv2\n",
        "import random\n",
        "import PIL\n",
        "\n",
        "reader = easyocr.Reader([\"en\"])"
      ]
    },
    {
      "cell_type": "code",
      "execution_count": 192,
      "metadata": {
        "id": "ElTY0Y0YnlpY"
      },
      "outputs": [],
      "source": [
        "# Выполняется около 3-х минут\n",
        "image_path = \"./images/words.png\"\n",
        "maximize_contrast(image_path)\n",
        "image = cv2.imread(\"./images/words_contrast.png\")\n",
        "\n",
        "bounds = reader.detect(image_path, mag_ratio=0.7, add_margin=0)"
      ]
    },
    {
      "cell_type": "code",
      "execution_count": 193,
      "metadata": {
        "colab": {
          "base_uri": "https://localhost:8080/"
        },
        "id": "fjphssMNooxd",
        "outputId": "db0ed656-96f4-4c3f-d731-99f21433628c"
      },
      "outputs": [
        {
          "output_type": "stream",
          "name": "stdout",
          "text": [
            "[[0, 187, 9289, 9359], [39, 226, 460, 531], [31, 250, 5484, 5531], [46, 265, 3562, 3617], [218, 265, 9789, 9835], [140, 281, 2257, 2320], [54, 289, 992, 1109], [0, 312, 3625, 3695], [7, 312, 6648, 6710], [54, 312, 4554, 4609], [210, 312, 7585, 7656], [31, 335, 1148, 1203], [109, 335, 1585, 1656], [31, 343, 23, 93], [31, 343, 8476, 8578], [39, 351, 609, 671], [39, 382, 1250, 1539], [109, 382, 3742, 3812], [171, 398, 750, 882], [164, 406, 7320, 7500], [179, 406, 9914, 9968], [203, 414, 8609, 8664], [187, 445, 3890, 3945], [242, 460, 6781, 6835], [335, 468, 1000, 1062], [62, 476, 2429, 2546], [132, 476, 8671, 8804], [78, 484, 890, 968], [312, 492, 468, 523], [320, 492, 2875, 2929], [304, 531, 2570, 2625], [328, 546, 2718, 2773], [148, 562, 5507, 5695], [109, 570, 6539, 6648], [265, 570, 6382, 6515], [273, 585, 2968, 3031], [156, 601, 5679, 5828], [187, 601, 4000, 4132], [31, 609, 8304, 8445], [210, 609, 3054, 3171], [242, 609, 8812, 8953], [265, 609, 265, 406], [328, 632, 4187, 4242], [375, 640, 6921, 6976], [500, 640, 9773, 9835], [93, 687, 9390, 9515], [210, 687, 3179, 3328], [250, 687, 9320, 9382], [429, 695, 5085, 5148], [453, 710, 8062, 8117], [531, 710, 3960, 4015], [539, 710, 531, 585], [414, 726, 3820, 3882], [335, 734, 5000, 5070], [593, 734, 648, 703], [523, 742, 3531, 3585], [398, 750, 6179, 6367], [398, 750, 7726, 7851], [546, 765, 3421, 3484], [710, 765, 9281, 9320], [131, 781, 4781, 4960], [570, 789, 1460, 1515], [320, 804, 9128, 9296], [453, 804, 2046, 2117], [421, 812, 9531, 9679], [218, 828, 7867, 8007], [578, 835, 2125, 2265], [444, 843, 3601, 3727], [687, 867, 4687, 4742], [601, 875, 2789, 2945], [358, 890, 5341, 5531], [414, 890, 1898, 2039], [593, 898, 9906, 9960], [482, 921, 1585, 1681], [617, 921, 265, 414], [710, 929, 4562, 4625], [507, 937, 8164, 8304], [640, 953, 1742, 1867], [687, 953, 8820, 8984], [750, 968, 8085, 8140], [640, 984, 2554, 2679], [653, 992, 4737, 4929], [812, 992, 8726, 8773], [375, 1000, 101, 242], [648, 1000, 3023, 3148], [781, 1000, 5031, 5085], [742, 1007, 2710, 2765], [668, 1015, 964, 1033], [796, 1023, 7132, 7187], [609, 1046, 1218, 1351], [867, 1054, 7750, 7820], [968, 1054, 1640, 1687], [812, 1070, 4046, 4093], [600, 1085, 8476, 8587], [742, 1085, 2429, 2484], [820, 1085, 3867, 4031], [757, 1096, 2214, 2406], [320, 1125, 5664, 6273], [687, 1132, 6960, 7093], [859, 1164, 7664, 7710], [1000, 1179, 5632, 5687], [1007, 1179, 5242, 5312], [531, 1195, 23, 109], [539, 1210, 796, 937], [859, 1210, 7867, 8031], [695, 1226, 9828, 9898], [921, 1226, 3250, 3304], [1093, 1226, 9945, 9992], [976, 1242, 1757, 1875], [703, 1250, 4101, 4500], [1109, 1289, 4617, 4671], [843, 1296, 1890, 2046], [945, 1335, 6054, 6226], [1117, 1343, 3117, 3187], [1125, 1343, 171, 226], [992, 1375, 8070, 8453], [1117, 1375, 2695, 2750], [460, 1382, 9648, 9789], [1210, 1382, 3796, 3851], [1132, 1398, 9203, 9257], [1179, 1398, 5929, 5984], [1062, 1406, 8710, 8765], [890, 1429, 2117, 2273], [921, 1437, 8546, 8671], [1195, 1437, 9273, 9414], [1398, 1445, 242, 289], [1273, 1453, 5023, 5070], [1281, 1453, 15, 70], [953, 1468, 8812, 8953], [1242, 1468, 7312, 7375], [1343, 1476, 9898, 9953], [1187, 1492, 6804, 6921], [1265, 1492, 4304, 4367], [1156, 1500, 1648, 1703], [1195, 1507, 5171, 5429], [1203, 1507, 2789, 2843], [1203, 1507, 7656, 7703], [1296, 1515, 609, 664], [1093, 1531, 4539, 4593], [1359, 1531, 5085, 5140], [1320, 1539, 5750, 5875], [1409, 1551, 2425, 2503], [1359, 1578, 1085, 1148], [1250, 1601, 1523, 1578], [1296, 1601, 9507, 9562], [1335, 1601, 9429, 9484], [1320, 1617, 1171, 1234], [1382, 1640, 3312, 3437], [1273, 1648, 6906, 7046], [1476, 1656, 8570, 8625], [1523, 1656, 945, 1000], [1265, 1664, 2531, 2664], [1442, 1666, 4618, 4691], [1492, 1687, 6460, 6523], [1435, 1703, 422, 562], [1437, 1703, 7523, 7640], [1523, 1703, 5625, 5679], [1505, 1736, 8877, 8946], [1617, 1742, 4945, 5000], [1531, 1757, 9718, 9773], [1476, 1789, 3781, 3835], [1468, 1812, 8671, 8820], [1500, 1812, 7335, 7476], [1640, 1820, 117, 179], [1476, 1828, 6218, 6390], [1007, 1835, 3609, 3765], [1351, 1835, 8429, 8554], [1265, 1843, 3484, 3601], [1453, 1843, 3148, 3312], [1625, 1843, 9914, 9968], [1609, 1867, 2390, 2445], [1546, 1882, 164, 453], [1726, 1906, 1765, 1820], [1726, 1906, 9320, 9367], [1234, 1914, 2218, 2375], [1734, 1914, 5390, 5445], [1617, 1921, 578, 640], [1765, 1945, 8593, 8664], [1242, 1984, 1320, 1507], [1679, 1984, 23, 78], [1773, 1984, 2156, 2210], [1562, 1992, 9812, 9875], [1820, 1992, 9664, 9710], [1507, 2000, 5218, 5359], [1773, 2000, 2960, 3007], [1781, 2000, 5000, 5054], [1625, 2007, 2796, 2929], [1960, 2015, 8914, 8953], [1789, 2046, 1296, 1351], [1906, 2046, 9945, 9992], [1765, 2062, 9554, 9609], [1843, 2062, 3851, 3906], [1554, 2070, 6046, 6203], [1898, 2078, 140, 203], [1906, 2078, 3531, 3578], [1898, 2085, 281, 351], [1906, 2085, 9437, 9492], [1906, 2093, 9875, 9937], [1921, 2093, 2679, 2734], [2039, 2093, 9781, 9820], [1585, 2101, 3023, 3187], [1703, 2109, 7781, 8125], [1898, 2109, 3937, 3992], [1640, 2117, 2031, 2085], [1960, 2132, 9304, 9359], [1437, 2140, 9171, 9296], [1632, 2140, 8148, 8328], [1875, 2140, 4875, 4929], [1890, 2156, 3585, 3843], [1531, 2195, 1875, 2007], [1953, 2210, 4515, 4570], [1992, 2210, 1656, 1710], [1695, 2218, 8343, 8476], [1710, 2218, 7453, 7609], [2171, 2218, 4757, 4804], [1968, 2226, 1515, 1570], [648, 2273, 8953, 9156], [2140, 2273, 9921, 9984], [1609, 2296, 7617, 7757], [1984, 2296, 4414, 4468], [2085, 2304, 3242, 3296], [2210, 2304, 6062, 6117], [2015, 2328, 5406, 5468], [2078, 2335, 23, 78], [2078, 2335, 5921, 5976], [2085, 2359, 7156, 7390], [2187, 2367, 1031, 1078], [2054, 2398, 5226, 5382], [2125, 2398, 4335, 4398], [2101, 2406, 3335, 3484], [1757, 2414, 5078, 5210], [2203, 2421, 9859, 9914], [2242, 2421, 2031, 2085], [2218, 2437, 2453, 2515], [1992, 2455, 4140, 4281], [2289, 2460, 2679, 2734], [2039, 2468, 7445, 7507], [2289, 2468, 5703, 5757], [2242, 2476, 2265, 2406], [2320, 2492, 8890, 8945], [2187, 2500, 1289, 1351], [2218, 2523, 828, 882], [2046, 2531, 2109, 2250], [2257, 2531, 4921, 5062], [2078, 2539, 1359, 1484], [2125, 2539, 2875, 3257], [2210, 2562, 929, 984], [2250, 2578, 4507, 4632], [2281, 2585, 500, 554], [2132, 2593, 2539, 2656], [2335, 2601, 7921, 7976], [2335, 2609, 3554, 3609], [2382, 2609, 8992, 9156], [2359, 2617, 9234, 9289], [2240, 2632, 3628, 3757], [2468, 2640, 4242, 4390], [2421, 2648, 8585, 8656], [2507, 2656, 8054, 8117], [2396, 2657, 7164, 7329], [2359, 2664, 8718, 8851], [2398, 2664, 9937, 9992], [2460, 2671, 8218, 8273], [2523, 2695, 31, 85], [2218, 2703, 4632, 4773], [2320, 2718, 4789, 4929], [2343, 2718, 8296, 8476], [2453, 2718, 4406, 4460], [2539, 2718, 3093, 3156], [2468, 2726, 2945, 3000], [2507, 2726, 7375, 7429], [2515, 2734, 7460, 7632], [2406, 2757, 6484, 6640], [2625, 2757, 2179, 2234], [2507, 2765, 3921, 3976], [2632, 2765, 6281, 6335], [2476, 2781, 8492, 8546], [2523, 2781, 2242, 2367], [2609, 2781, 101, 156], [2609, 2781, 2054, 2101], [2398, 2782, 3773, 3907], [2187, 2789, 7734, 7882], [2656, 2796, 6851, 6906], [2359, 2812, 3984, 4132], [2593, 2812, 9796, 9859], [2640, 2820, 9710, 9757], [2625, 2843, 6718, 6773], [2664, 2851, 2632, 2695], [2640, 2859, 2773, 2820], [2429, 2867, 612, 773], [2601, 2867, 1273, 1328], [2609, 2875, 7664, 7718], [2625, 2875, 1007, 1156], [2648, 2875, 6085, 6156], [2578, 2882, 9562, 9617], [2718, 2898, 7898, 7960], [2664, 2921, 1390, 1445], [2710, 2937, 9007, 9156], [2726, 2937, 5937, 5992], [2648, 2945, 1914, 1968], [2492, 2968, 2437, 2492], [2750, 2968, 828, 882], [2671, 2976, 937, 992], [2585, 2984, 5421, 5742], [2757, 2984, 5359, 5421], [2640, 2992, 9398, 9515], [2679, 2992, 2554, 2617], [2687, 2992, 9328, 9390], [2773, 2992, 3656, 3710], [2812, 2992, 1820, 1875], [2484, 3000, 6406, 6460], [2687, 3000, 1468, 1539], [2820, 3000, 5265, 5312], [2695, 3015, 9898, 9976], [2562, 3054, 5718, 5859], [2914, 3054, 7679, 7742], [2851, 3070, 3898, 3945], [2789, 3093, 9156, 9281], [2632, 3109, 4140, 4265], [2929, 3109, 9093, 9156], [2914, 3132, 3703, 3875], [2835, 3140, 4375, 4500], [2976, 3148, 7546, 7601], [2796, 3156, 3992, 4062], [2851, 3164, 9843, 9914], [2968, 3195, 4562, 4617], [2914, 3210, 7351, 7468], [3000, 3210, 4906, 4960], [2867, 3226, 5070, 5210], [3039, 3226, 906, 960], [2898, 3250, 234, 414], [2992, 3257, 7273, 7335], [2726, 3273, 4289, 4351], [2937, 3281, 31, 85], [2976, 3281, 2921, 2976], [3101, 3281, 9929, 9984], [3031, 3289, 2648, 2703], [3117, 3289, 6382, 6507], [2875, 3315, 3445, 3578], [3093, 3320, 1476, 1601], [2984, 3328, 6554, 6617], [3031, 3335, 3085, 3140], [3125, 3343, 3921, 3976], [3125, 3343, 5953, 6093], [3171, 3343, 6671, 6726], [3007, 3359, 101, 218], [3148, 3375, 6109, 6171], [3320, 3406, 8500, 8546], [3132, 3421, 8890, 8976], [3250, 3421, 9414, 9523], [2773, 3437, 6937, 7092], [3195, 3453, 8984, 9101], [2921, 3460, 3304, 3468], [2960, 3460, 2773, 2914], [3062, 3460, 742, 804], [3109, 3460, 3242, 3312], [3208, 3468, 3768, 3906], [3289, 3476, 5265, 5335], [2976, 3484, 9164, 9312], [3179, 3484, 648, 703], [2906, 3492, 8671, 8843], [3187, 3500, 539, 601], [3218, 3501, 5375, 5520], [3281, 3507, 1351, 1476], [3226, 3515, 5523, 5648], [2539, 3531, 7078, 7218], [3343, 3531, 7726, 7789], [3156, 3554, 2562, 2617], [3390, 3570, 3460, 3515], [3367, 3585, 5914, 5968], [3460, 3593, 9632, 9679], [3289, 3596, 4068, 4135], [3296, 3601, 7593, 7656], [3382, 3601, 9867, 9994], [3078, 3609, 3578, 3750], [3273, 3617, 5101, 5234], [3429, 3648, 4203, 4257], [3179, 3664, 8304, 8476], [3453, 3664, 6085, 6140], [3398, 3671, 3039, 3187], [3539, 3671, 8585, 8640], [3234, 3679, 4640, 5054], [3242, 3679, 6226, 6351], [3367, 3695, 7351, 7468], [3007, 3704, 6765, 6898], [3507, 3718, 4601, 4656], [3382, 3726, 9687, 9820], [3343, 3734, 7210, 7265], [3468, 3734, 6906, 6960], [3484, 3742, 4273, 4328], [3273, 3750, 2429, 2507], [3500, 3765, 1164, 1304], [3546, 3765, 8515, 8570], [3476, 3781, 9304, 9359], [3484, 3781, 1609, 1664], [3554, 3781, 4382, 4531], [3687, 3781, 5257, 5304], [3492, 3796, 2015, 2062], [3585, 3804, 1335, 1398], [3570, 3835, 7796, 7851], [3703, 3835, 4773, 4828], [3664, 3843, 15, 70], [3609, 3851, 5101, 5234], [3632, 3851, 1515, 1570], [3828, 3875, 882, 929], [3578, 3898, 6492, 6625], [3625, 3898, 7695, 7750], [3640, 3908, 9867, 9994], [3687, 3914, 1929, 1992], [3750, 3929, 9726, 9781], [3757, 3929, 5015, 5062], [3750, 3976, 117, 179], [3734, 4000, 8195, 8343], [3828, 4054, 9226, 9281], [3476, 4070, 7890, 8039], [3890, 4070, 6117, 6171], [3898, 4078, 8382, 8429], [3781, 4085, 8054, 8109], [3882, 4101, 6937, 6984], [3710, 4109, 2906, 2953], [3976, 4109, 31, 85], [3835, 4140, 5398, 5460], [3875, 4140, 4171, 4226], [3718, 4148, 242, 398], [3812, 4148, 2992, 3140], [3773, 4210, 4273, 4398], [3898, 4210, 6179, 6343], [4000, 4218, 9921, 9976], [3859, 4226, 7335, 7476], [3882, 4234, 1617, 1757], [4015, 4234, 437, 507], [3476, 4250, 1734, 1921], [3984, 4257, 7500, 7617], [3875, 4265, 906, 960], [4140, 4273, 5750, 5804], [4085, 4312, 4437, 4507], [3882, 4320, 4812, 4945], [4085, 4320, 2765, 2945], [3945, 4335, 7632, 7757], [3906, 4343, 2023, 2078], [4046, 4351, 8765, 8820], [4093, 4359, 4632, 4781], [4187, 4359, 7078, 7132], [4015, 4375, 1937, 2000], [4070, 4375, 4960, 5015], [4117, 4382, 8429, 8484], [4203, 4390, 3382, 3445], [4216, 4401, 6318, 6387], [3976, 4437, 5062, 5187], [4171, 4437, 3507, 3570], [4179, 4437, 6070, 6125], [3953, 4445, 9328, 9398], [4187, 4445, 9429, 9484], [4273, 4445, 3593, 3648], [4046, 4453, 8820, 8937], [4070, 4460, 8539, 8695], [4203, 4460, 7773, 7828], [4273, 4460, 6828, 6890], [3451, 4468, 992, 1171], [3906, 4476, 5875, 6054], [4335, 4476, 2445, 2515], [4132, 4484, 7859, 8039], [4328, 4507, 1851, 1906], [4257, 4515, 5281, 5335], [3945, 4523, 7171, 7304], [4218, 4539, 2382, 2523], [4414, 4539, 5539, 5593], [4164, 4546, 9006, 9140], [4195, 4546, 6500, 6562], [4281, 4546, 6437, 6484], [4414, 4546, 601, 656], [4210, 4554, 6906, 7031], [4085, 4562, 9140, 9312], [4398, 4570, 1414, 1468], [4382, 4601, 8476, 8531], [4304, 4609, 4531, 4585], [4242, 4617, 9507, 9648], [4406, 4617, 937, 992], [4289, 4625, 390, 539], [4492, 4625, 3359, 3414], [4421, 4632, 3242, 3296], [4242, 4648, 6640, 6804], [4468, 4648, 7656, 7710], [4351, 4656, 3029, 3187], [4375, 4656, 6234, 6382], [4390, 4664, 9867, 9937], [4375, 4679, 2554, 2617], [4414, 4679, 46, 101], [4421, 4687, 9765, 9820], [4226, 4695, 742, 898], [4039, 4703, 2640, 2718], [4445, 4703, 2007, 2062], [4250, 4718, 3734, 3890], [4554, 4734, 2312, 2367], [4562, 4750, 2382, 2531], [4226, 4757, 8187, 8320], [4500, 4765, 1070, 1195], [4544, 4767, 6840, 6907], [4515, 4773, 1929, 1992], [4554, 4773, 2945, 3000], [4446, 4778, 8286, 8410], [4601, 4781, 4148, 4203], [4609, 4796, 4960, 5023], [4429, 4804, 7078, 7210], [4265, 4812, 8078, 8148], [4375, 4828, 2781, 2929], [4679, 4851, 9375, 9429], [4714, 4863, 4863, 4941], [4609, 4867, 9179, 9289], [4445, 4875, 2117, 2234], [4414, 4879, 1210, 1378], [4554, 4898, 5078, 5226], [4718, 4898, 5273, 5335], [4687, 4906, 265, 320], [4632, 4937, 6554, 6617], [4671, 4945, 4507, 4570], [4656, 4960, 6367, 6507], [4742, 4960, 2593, 2648], [4390, 4976, 4382, 4507], [4593, 4984, 664, 718], [4679, 4992, 4609, 4664], [4773, 4992, 3882, 4023], [4781, 5000, 3640, 3695], [4757, 5023, 4250, 4304], [4726, 5039, 7187, 7343], [4734, 5039, 953, 1007], [4773, 5039, 3007, 3171], [4781, 5046, 3507, 3562], [4648, 5062, 9007, 9164], [4671, 5062, 9273, 9406], [4757, 5070, 4023, 4093], [4765, 5070, 2265, 2320], [4834, 5095, 9902, 9969], [4898, 5109, 7460, 7632], [4781, 5124, 765, 929], [4796, 5148, 2640, 2765], [4609, 5164, 7875, 8031], [4997, 5174, 6857, 6928], [4835, 5187, 1023, 1078], [4937, 5195, 257, 390], [5023, 5210, 6601, 6664], [4914, 5218, 7726, 7851], [4859, 5226, 109, 234], [4875, 5226, 39, 101], [4789, 5234, 6671, 6812], [4812, 5235, 3187, 3319], [4882, 5242, 2398, 2460], [4945, 5257, 5531, 5648], [4953, 5257, 6953, 7007], [4976, 5265, 2148, 2234], [4882, 5281, 7046, 7179], [4937, 5281, 8023, 8156], [5062, 5289, 1250, 1375], [5156, 5289, 9453, 9507], [5039, 5312, 4492, 4562], [5046, 5312, 2031, 2085], [5101, 5320, 9562, 9617], [4914, 5329, 2765, 2921], [5031, 5335, 5710, 5859], [5164, 5335, 2625, 2671], [5125, 5351, 3859, 3921], [5132, 5351, 445, 500], [5179, 5359, 7210, 7328], [4609, 5367, 1742, 1906], [4802, 5369, 4078, 4176], [4820, 5414, 3734, 3898], [5054, 5414, 1382, 1445], [5218, 5437, 3492, 3546], [4671, 5453, 3334, 3492], [5054, 5453, 5273, 5382], [5195, 5453, 4929, 5078], [5109, 5476, 2250, 2375], [5257, 5476, 2695, 2750], [4914, 5492, 1570, 1757], [5242, 5492, 7507, 7625], [5281, 5500, 9929, 9984], [5257, 5523, 3609, 3664], [5000, 5554, 1460, 1546], [5234, 5578, 5906, 6031], [5398, 5578, 9335, 9390], [5289, 5593, 1070, 1125], [5195, 5601, 3992, 4140], [5281, 5625, 6054, 6210], [5132, 5648, 7351, 7492], [5437, 5656, 6812, 6937], [5460, 5679, 8453, 8500], [5343, 5695, 9164, 9296], [5320, 5703, 1218, 1343], [5437, 5703, 4218, 4265], [5484, 5703, 1367, 1421], [5453, 5718, 2820, 2875], [5429, 5726, 9093, 9148], [5265, 5750, 7609, 7773], [5273, 5750, 2890, 3015], [5492, 5750, 4281, 4328], [5500, 5750, 7195, 7343], [5640, 5781, 5304, 5359], [5484, 5789, 4726, 4789], [5398, 5804, 6492, 6656], [5078, 5820, 5062, 5242], [5609, 5835, 7789, 7843], [5656, 5835, 4960, 5031], [5156, 5867, 4789, 4937], [5609, 5867, 492, 546], [5656, 5875, 1640, 1703], [5601, 5890, 5585, 5710], [5726, 5898, 679, 734], [5843, 5898, 6453, 6507], [5382, 5906, 6710, 6804], [5662, 5914, 3148, 3278], [5781, 5921, 9937, 9992], [5500, 5929, 8312, 8429], [5648, 5945, 3304, 3359], [5609, 5953, 9859, 9914], [5046, 5960, 5375, 5562], [5484, 5960, 6351, 6468], [5742, 5960, 226, 281], [5921, 5968, 484, 523], [5390, 5976, 6250, 6328], [5585, 5984, 6898, 7085], [5218, 5992, 7859, 8031], [5765, 5992, 7382, 7445], [5851, 5992, 6835, 6890], [5412, 6015, 3853, 3992], [5750, 6015, 7585, 7656], [5757, 6015, 117, 171], [5726, 6031, 9234, 9289], [5507, 6039, 3742, 3898], [5679, 6039, 6046, 6218], [5984, 6039, 9914, 9960], [5781, 6046, 8468, 8523], [5875, 6046, 9539, 9593], [5843, 6070, 773, 828], [5521, 6085, 8023, 8173], [5789, 6093, 3671, 3726], [5828, 6093, 8695, 8828], [5914, 6093, 2906, 2968], [5882, 6109, 9351, 9414], [5843, 6117, 1460, 1585], [5898, 6117, 2789, 2843], [5265, 6125, 8539, 8679], [5679, 6125, 5679, 5882], [5812, 6125, 8875, 9179], [5968, 6148, 8015, 8070], [5734, 6156, 3023, 3140], [5945, 6164, 6671, 6726], [6000, 6179, 351, 406], [5578, 6195, 8171, 8335], [6023, 6203, 4335, 4382], [6000, 6218, 8367, 8429], [6039, 6257, 2687, 2742], [6007, 6273, 1609, 1664], [5773, 6289, 1906, 2046], [6031, 6289, 7851, 7906], [6078, 6296, 7781, 7828], [5786, 6335, 7203, 7363], [6140, 6351, 2218, 2273], [6054, 6359, 5835, 5890], [5804, 6375, 2125, 2250], [6109, 6382, 9898, 9960], [6132, 6390, 2054, 2109], [6132, 6398, 2937, 2992], [5960, 6406, 6945, 7070], [6093, 6406, 6867, 6921], [6156, 6414, 9570, 9625], [6203, 6421, 5937, 5992], [6031, 6453, 4828, 5171], [6234, 6453, 4531, 4585], [5898, 6468, 6531, 6593], [6203, 6468, 6078, 6132], [6335, 6468, 9671, 9726], [6437, 6484, 2164, 2203], [5999, 6492, 382, 562], [6070, 6492, 15, 351], [6187, 6492, 3929, 3976], [6226, 6492, 3023, 3078], [6242, 6500, 4687, 4750], [6156, 6515, 5375, 5500], [6335, 6515, 2679, 2734], [6031, 6523, 578, 750], [5937, 6531, 6375, 6515], [6070, 6531, 992, 1453], [6203, 6546, 2757, 2875], [6218, 6546, 4031, 4156], [6109, 6554, 9773, 9867], [6312, 6578, 7554, 7609], [6453, 6578, 2257, 2312], [5906, 6585, 9390, 9539], [6320, 6585, 3531, 3585], [6367, 6585, 8562, 8609], [6403, 6588, 20, 95], [6164, 6640, 3742, 3906], [6281, 6640, 4289, 4351], [6421, 6640, 4945, 5000], [6507, 6640, 4851, 4906], [6429, 6648, 8000, 8054], [6484, 6664, 3679, 3734], [6406, 6671, 7843, 7984], [6492, 6671, 7265, 7320], [6373, 6680, 7626, 7696], [6507, 6687, 9734, 9789], [6468, 6695, 9906, 9968], [5515, 6703, 7093, 7218], [6437, 6718, 1898, 1984], [6468, 6734, 8148, 8304], [6578, 6750, 3257, 3312], [6492, 6757, 7757, 7812], [6312, 6773, 6218, 6351], [6554, 6773, 5460, 5515], [6601, 6773, 5609, 5664], [5750, 6781, 4390, 4531], [6492, 6796, 8851, 8906], [6687, 6820, 4304, 4359], [6609, 6828, 4539, 4593], [6523, 6835, 8992, 9046], [6703, 6835, 1109, 1156], [6656, 6843, 2742, 2804], [6514, 6868, 1999, 2065], [6273, 6875, 4093, 4281], [6296, 6875, 7350, 7492], [5984, 6882, 2523, 2640], [6765, 6898, 4078, 4132], [6625, 6921, 4648, 4796], [6273, 6929, 8664, 8828], [6664, 6929, 1187, 1335], [6562, 6953, 2664, 2718], [6804, 6976, 4453, 4507], [6632, 6992, 6632, 6812], [6750, 7007, 3515, 3570], [6835, 7007, 6531, 6585], [6742, 7015, 9898, 9968], [6843, 7015, 6828, 6875], [6601, 7023, 2101, 2226], [6765, 7023, 9843, 9898], [6859, 7039, 7656, 7718], [6625, 7054, 234, 359], [6765, 7070, 8468, 8523], [6703, 7078, 3351, 3492], [6851, 7078, 4304, 4359], [6929, 7101, 8562, 8617], [6890, 7109, 7562, 7617], [6929, 7109, 2804, 2859], [6937, 7125, 1617, 1679], [7070, 7125, 218, 265], [6812, 7140, 6257, 6375], [6796, 7148, 6390, 6523], [6820, 7171, 9429, 9484], [6875, 7179, 2250, 2304], [6960, 7179, 8101, 8156], [6703, 7187, 7843, 8000], [6716, 7187, 23, 97], [6726, 7203, 9515, 9640], [6953, 7210, 2625, 2679], [7031, 7210, 2882, 2945], [6960, 7218, 3164, 3312], [6664, 7234, 132, 187], [7015, 7234, 3078, 3132], [6937, 7242, 1734, 1789], [6945, 7250, 3789, 3835], [6585, 7257, 9039, 9414], [6992, 7257, 1468, 1523], [7078, 7257, 7750, 7812], [6976, 7265, 625, 765], [7046, 7265, 8968, 9023], [7101, 7273, 1820, 1875], [7031, 7296, 945, 1000], [7156, 7296, 4671, 4726], [7125, 7304, 6242, 6304], [7250, 7304, 3570, 3617], [7053, 7321, 9900, 9970], [7070, 7390, 4117, 4203], [7210, 7390, 5281, 5335], [7273, 7398, 1023, 1078], [7281, 7406, 476, 531], [6835, 7421, 8296, 8484], [7208, 7431, 809, 876], [7265, 7437, 1625, 1765], [6882, 7460, 2437, 2546], [7234, 7460, 5179, 5242], [7250, 7468, 9835, 9890], [7218, 7476, 7218, 7273], [7109, 7492, 2039, 2093], [7317, 7495, 2528, 2596], [7054, 7515, 3882, 4039], [7343, 7523, 4437, 4500], [7421, 7546, 7085, 7140], [6750, 7554, 9656, 9804], [7351, 7562, 6546, 6601], [7382, 7562, 3492, 3546], [7390, 7570, 109, 164], [7125, 7585, 1929, 2007], [7359, 7585, 8562, 8625], [7492, 7585, 265, 320], [7468, 7601, 9328, 9382], [7273, 7617, 6664, 6789], [7343, 7617, 4031, 4085], [7437, 7617, 8203, 8257], [7328, 7625, 3039, 3164], [7148, 7640, 4257, 4414], [7312, 7640, 5351, 5539], [7335, 7640, 4953, 5093], [7437, 7656, 6812, 6875], [7546, 7679, 2062, 2117], [7507, 7687, 1226, 1281], [7382, 7695, 9945, 9992], [7468, 7695, 7, 70], [7226, 7718, 7343, 7500], [7500, 7718, 4507, 4562], [7484, 7734, 1625, 1710], [7328, 7742, 3750, 3890], [7437, 7742, 4632, 4781], [7484, 7751, 1710, 1907], [6750, 7757, 3593, 3742], [7375, 7765, 1515, 1570], [7318, 7781, 2148, 2220], [7523, 7789, 7585, 7640], [7531, 7796, 5554, 5691], [7359, 7828, 2218, 2375], [7562, 7828, 9828, 9882], [7609, 7828, 7164, 7218], [7593, 7835, 2804, 2937], [7656, 7835, 7257, 7320], [7421, 7851, 8828, 8953], [7601, 7851, 4117, 4257], [7593, 7859, 125, 265], [7640, 7859, 8335, 8382], [7281, 7882, 9546, 9617], [7796, 7890, 6226, 6289], [7523, 7914, 5734, 5867], [7757, 7945, 2007, 2070], [7765, 7945, 1593, 1648], [7796, 7976, 4031, 4085], [7640, 7984, 3875, 4007], [7632, 7985, 424, 523], [7476, 8000, 8429, 8578], [7640, 8000, 8578, 8648], [7570, 8007, 9148, 9296], [7757, 8015, 9140, 9195], [7617, 8023, 6289, 6570], [7757, 8023, 9921, 9984], [7796, 8023, 4820, 4882], [7796, 8023, 9320, 9382], [7656, 8039, 8968, 9109], [7757, 8039, 4273, 4398], [7671, 8046, 250, 429], [7500, 8054, 1328, 1500], [7328, 8070, 8687, 8812], [7812, 8078, 3109, 3171], [7828, 8085, 851, 906], [7551, 8093, 1000, 1187], [7820, 8093, 1929, 1992], [7757, 8156, 1234, 1289], [7671, 8171, 3203, 3351], [7906, 8179, 9820, 9882], [8007, 8187, 1367, 1421], [7929, 8195, 8375, 8429], [7828, 8210, 5523, 5664], [8031, 8210, 8515, 8570], [8000, 8226, 7046, 7109], [7281, 8236, 570, 781], [7390, 8242, 2622, 2789], [7937, 8242, 6515, 6632], [7562, 8250, 9679, 9812], [8093, 8265, 2820, 2875], [7890, 8273, 8179, 8320], [8031, 8281, 6429, 6484], [7976, 8289, 3476, 3632], [8117, 8289, 1875, 1921], [7859, 8296, 4492, 4609], [8132, 8304, 1539, 1593], [8132, 8304, 9054, 9109], [8046, 8312, 1617, 1765], [7718, 8343, 4414, 4476], [8164, 8343, 7382, 7437], [8296, 8343, 9914, 9945], [7945, 8351, 4093, 4281], [8093, 8351, 1804, 1859], [7914, 8382, 9539, 9687], [8125, 8390, 5804, 5859], [8171, 8390, 742, 796], [8007, 8398, 3328, 3453], [8296, 8429, 7664, 7718], [8101, 8445, 4351, 4406], [8281, 8453, 2062, 2125], [8320, 8453, 9296, 9343], [7539, 8460, 7671, 8156], [8281, 8468, 6695, 6757], [8265, 8476, 5046, 5109], [7882, 8484, 8828, 8968], [8343, 8484, 265, 320], [7367, 8492, 9382, 9523], [8281, 8500, 6617, 6671], [8351, 8531, 9953, 9992], [8367, 8546, 9031, 9078], [8203, 8562, 5367, 5507], [8289, 8585, 921, 968], [8359, 8585, 6953, 7070], [8273, 8617, 117, 171], [8507, 8640, 3468, 3523], [8406, 8664, 554, 601], [8445, 8664, 4085, 4140], [8414, 8687, 6093, 6164], [8429, 8687, 8625, 8679], [8554, 8687, 1492, 1546], [8263, 8695, 5257, 5391], [8390, 8695, 8062, 8117], [8406, 8695, 4812, 4960], [8382, 8703, 2257, 2382], [8375, 8734, 8695, 8820], [8046, 8742, 9125, 9304], [8570, 8742, 31, 93], [8570, 8750, 7234, 7289], [8593, 8765, 8328, 8382], [8101, 8804, 5867, 6078], [8500, 8804, 7085, 7140], [8476, 8820, 8429, 8578], [8601, 8820, 3273, 3335], [8429, 8828, 6226, 6343], [8578, 8835, 5015, 5078], [8554, 8859, 6617, 6671], [8226, 8875, 3875, 4015], [8656, 8875, 9828, 9882], [8687, 8875, 9390, 9460], [8703, 8875, 929, 976], [8460, 8890, 8140, 8312], [8218, 8898, 6804, 6937], [8289, 8898, 4609, 4750], [8390, 8906, 7719, 7867], [8656, 8914, 257, 312], [8585, 8929, 5421, 5546], [8703, 8937, 23, 242], [8804, 8937, 7000, 7054], [8726, 8945, 7625, 7742], [8734, 8953, 4437, 4500], [8601, 8976, 992, 1164], [8718, 8976, 3445, 3578], [8726, 8984, 8078, 8132], [8765, 8984, 2453, 2507], [8476, 9015, 5554, 5679], [8765, 9023, 1898, 1945], [8492, 9046, 1609, 1757], [8468, 9078, 5703, 5851], [8773, 9093, 8546, 8710], [8921, 9093, 3632, 3679], [8937, 9109, 7554, 7609], [8992, 9117, 1390, 1445], [8695, 9140, 3726, 3867], [8921, 9140, 4789, 4835], [8679, 9156, 9890, 9945], [8687, 9156, 7343, 7492], [8812, 9156, 1539, 1593], [8929, 9156, 6359, 6414], [8943, 9158, 2127, 2196], [8460, 9164, 4492, 4593], [8850, 9187, 6530, 6671], [8812, 9195, 8734, 9101], [9062, 9195, 7281, 7335], [8851, 9210, 3039, 3195], [8851, 9226, 9523, 9640], [8960, 9226, 4015, 4070], [8578, 9242, 6703, 6789], [8929, 9242, 3859, 3992], [8740, 9250, 2242, 2402], [8906, 9257, 2539, 2593], [9046, 9273, 31, 93], [8562, 9312, 7890, 8039], [9085, 9312, 8148, 8203], [9281, 9335, 5593, 5632], [9164, 9343, 8054, 8109], [9046, 9351, 5156, 5218], [8882, 9375, 3218, 3328], [8891, 9406, 8218, 8525], [8945, 9406, 4609, 4734], [9195, 9414, 4523, 4578], [9289, 9421, 9695, 9750], [8546, 9424, 3257, 3451], [9085, 9445, 7664, 7726], [9187, 9445, 4437, 4492], [8981, 9460, 9375, 9507], [9125, 9468, 2906, 3039], [9171, 9476, 5398, 5453], [9296, 9476, 3093, 3148], [9328, 9500, 2718, 2773], [9375, 9507, 8703, 8757], [9250, 9515, 9203, 9257], [9125, 9523, 9007, 9132], [9171, 9523, 4953, 5085], [9171, 9523, 5250, 5375], [9265, 9523, 8828, 8875], [9039, 9539, 7750, 7867], [8984, 9546, 3453, 3500], [9289, 9546, 9546, 9601], [9289, 9554, 9945, 9992], [8992, 9562, 5835, 5929], [9304, 9570, 6242, 6296], [9351, 9578, 5593, 5656], [9273, 9593, 5453, 5593], [9296, 9601, 6671, 6804], [9015, 9611, 9789, 9923], [9437, 9617, 804, 859], [9234, 9625, 6945, 7085], [9365, 9627, 1949, 2019], [9460, 9640, 3218, 3289], [9445, 9656, 3945, 4000], [9320, 9664, 2828, 2882], [9390, 9664, 6609, 6664], [9242, 9671, 7460, 7625], [9281, 9671, 1656, 1710], [9414, 9671, 4070, 4125], [9437, 9703, 5343, 5523], [9437, 9710, 4820, 4937], [9421, 9726, 1320, 1375], [9546, 9726, 4445, 4500], [9554, 9734, 6968, 7023], [9226, 9750, 898, 1023], [9398, 9750, 7914, 7968], [9468, 9757, 9687, 9820], [9164, 9765, 4296, 4414], [9476, 9773, 671, 726], [9531, 9789, 1203, 1257], [9617, 9789, 1515, 1570], [9539, 9796, 1429, 1484], [9539, 9796, 4523, 4578], [9664, 9796, 5640, 5703], [9632, 9812, 9054, 9117], [9328, 9820, 9281, 9406], [9453, 9828, 4632, 4796], [9617, 9843, 3726, 3781], [9671, 9843, 7750, 7812], [9710, 9843, 6500, 6554], [9679, 9859, 2914, 2976], [9726, 9859, 1015, 1078], [9234, 9867, 5734, 5875], [9609, 9867, 2734, 2789], [9687, 9867, 7156, 7210], [8976, 9882, 6773, 6929], [9609, 9882, 93, 226], [9656, 9882, 8335, 8453], [9632, 9890, 9171, 9304], [9703, 9914, 23, 78], [8929, 9921, 4140, 4281], [9468, 9921, 7375, 7445], [9546, 9921, 8476, 8570], [9554, 9921, 7218, 7359], [9656, 9929, 9414, 9476], [9601, 9945, 8617, 8671], [9515, 9953, 2007, 2117], [9734, 9953, 6421, 6476], [9789, 9976, 3179, 3242], [9796, 9976, 4335, 4390], [9804, 9984, 6296, 6351], [9812, 9984, 8101, 8156], [9695, 9992, 9953, 9992], [9781, 9992, 3070, 3132], [9781, 9992, 5281, 5335], [9820, 9992, 7539, 7609]]\n"
          ]
        },
        {
          "output_type": "execute_result",
          "data": {
            "text/plain": [
              "True"
            ]
          },
          "metadata": {},
          "execution_count": 193
        }
      ],
      "source": [
        "def draw_boxes(image, bounds, width=2):\n",
        "    horizontal_bounds = []\n",
        "    vertical_bounds = []\n",
        "    for bound in bounds[0][0]:\n",
        "        x_min, x_max, y_min, y_max = bound\n",
        "        top_left = (x_min, y_min)\n",
        "        bottom_right = (x_max, y_max)\n",
        "        color = (random.randint(0, 255), random.randint(0, 255), random.randint(0, 255))\n",
        "        if (y_max-y_min > x_max-x_min):\n",
        "            vertical_bounds.append(bound)\n",
        "            # vert\n",
        "            color = (0, 255, 0)\n",
        "        else:\n",
        "            horizontal_bounds.append(bound)\n",
        "            # hor\n",
        "            color = (0, 0, 255)\n",
        "        cv2.rectangle(image, top_left, bottom_right, color, width)\n",
        "    horizontal_bounds = sorted(horizontal_bounds, key=lambda x: (x[1], x[0]))\n",
        "    vertical_bounds = sorted(vertical_bounds, key=lambda x: (x[1], x[0]))\n",
        "    return image, horizontal_bounds, vertical_bounds\n",
        "\n",
        "image_with_boxes, horizontal_bounds, vertical_bounds = draw_boxes(image, bounds)\n",
        "image = cv2.imread(image_path)\n",
        "final = \"\"\n",
        "\n",
        "def find_words(img, x_min, y_min, hor=True):\n",
        "    global final\n",
        "    words = []\n",
        "\n",
        "    gray = cv2.cvtColor(img, cv2.COLOR_BGR2GRAY)\n",
        "    blurred = cv2.GaussianBlur(gray, (5, 5), 0)\n",
        "\n",
        "    thresh = cv2.adaptiveThreshold(blurred, 255, cv2.ADAPTIVE_THRESH_GAUSSIAN_C,\n",
        "                                   cv2.THRESH_BINARY_INV, 11, 2)\n",
        "\n",
        "    rect_kernel = cv2.getStructuringElement(cv2.MORPH_RECT, (12, 3))\n",
        "\n",
        "    dilation = cv2.dilate(thresh, rect_kernel, iterations=1)\n",
        "\n",
        "    contours, hierarchy = cv2.findContours(dilation, cv2.RETR_EXTERNAL,\n",
        "                                           cv2.CHAIN_APPROX_SIMPLE)\n",
        "\n",
        "    for contour in contours:\n",
        "        x, y, w, h = cv2.boundingRect(contour)\n",
        "        if (hor):\n",
        "            words.append((x_min + x, y_min + y, w, h))\n",
        "        else:\n",
        "            words.append((x_min + y, y_max - x - w, h, w))\n",
        "\n",
        "    return words\n",
        "\n",
        "words_hor = []\n",
        "words_vert = []\n",
        "crop = []\n",
        "for bound in horizontal_bounds:\n",
        "    x_min, x_max, y_min, y_max = bound\n",
        "    crop = image[y_min:y_max, x_min:x_max]\n",
        "    words_hor.extend(find_words(crop, x_min, y_min))\n",
        "\n",
        "for bound in vertical_bounds:\n",
        "    x_min, x_max, y_min, y_max = bound\n",
        "    crop = cv2.rotate(image[y_min:y_max, x_min:x_max], cv2.ROTATE_90_CLOCKWISE)\n",
        "    final = crop\n",
        "    words_vert.extend(find_words(crop, x_min, y_min, False))\n",
        "\n",
        "def draw_rectangles_words():\n",
        "    thickness = 2\n",
        "    padding = 4\n",
        "    img = cv2.imread(image_path)\n",
        "\n",
        "    gray = cv2.cvtColor(img, cv2.COLOR_BGR2GRAY)\n",
        "    _, binary = cv2.threshold(gray, 1, 255, cv2.THRESH_BINARY_INV + cv2.THRESH_OTSU)\n",
        "    contours, _ = cv2.findContours(binary, cv2.RETR_EXTERNAL, cv2.CHAIN_APPROX_SIMPLE)\n",
        "\n",
        "    margin = 3\n",
        "    imgc = img.copy()\n",
        "    background_img = img.copy()\n",
        "    for word in words_hor:\n",
        "        x, y, w, h = word\n",
        "        if (w < 80 or h > 63 or h < 30):\n",
        "            continue\n",
        "        x_pad = max(x - padding - 1, 0)\n",
        "        y_pad = max(y - padding - 1, 0)\n",
        "        dx = (0 - (x - padding - 1)) if x_pad == 0 else 0\n",
        "        w_pad = w + 2*padding + 1 - dx\n",
        "        h_pad = h + 2*padding + 1\n",
        "\n",
        "        border_color = (0, 0, 0)\n",
        "        cv2.line(img, (x_pad, y_pad), (x_pad + w_pad, y_pad), border_color, thickness)\n",
        "        cv2.line(img, (x_pad, y_pad + h_pad), (x_pad + w_pad, y_pad + h_pad), border_color, thickness)\n",
        "        cv2.line(img, (x_pad + w_pad, y_pad), (x_pad + w_pad, y_pad + h_pad), border_color, thickness)\n",
        "        if dx == 0:\n",
        "            cv2.line(img, (x_pad, y_pad), (x_pad, y_pad + h_pad), border_color, thickness)\n",
        "\n",
        "        letter_color = np.mean(background_img[y:y+h, x:x+w], axis=(0, 1))\n",
        "        background_color = [255 - int(c) for c in letter_color]\n",
        "        cv2.rectangle(background_img, (x-margin, y-margin), (x+w+margin, y+h+margin), background_color, -1)\n",
        "\n",
        "        letter_region = imgc[y:y+h, x:x+w]\n",
        "        mask = binary[y:y+h, x:x+w]\n",
        "        mask_inv = cv2.bitwise_not(mask)\n",
        "        bg = cv2.bitwise_and(background_img[y:y+h, x:x+w], background_img[y:y+h, x:x+w], mask=mask_inv)\n",
        "        fg = cv2.bitwise_and(letter_region, letter_region, mask=mask)\n",
        "        background_img[y:y+h, x:x+w] = cv2.add(bg, fg)\n",
        "\n",
        "    for word in words_vert:\n",
        "        x, y, w, h = word\n",
        "        if (h < 80 or w > 63 or w < 30):\n",
        "            continue\n",
        "        x_pad = max(x - padding - 1, 0)\n",
        "        y_pad = max(y - padding - 1, 0)\n",
        "        dx = (0 - (x - padding - 1)) if x_pad == 0 else 0\n",
        "        w_pad = w + 2*padding + 1 - dx\n",
        "        h_pad = h + 2*padding + 1\n",
        "\n",
        "        border_color = (0, 0, 0)\n",
        "        cv2.line(img, (x_pad, y_pad), (x_pad + w_pad, y_pad), border_color, thickness)\n",
        "        cv2.line(img, (x_pad, y_pad + h_pad), (x_pad + w_pad, y_pad + h_pad), border_color, thickness)\n",
        "        cv2.line(img, (x_pad + w_pad, y_pad), (x_pad + w_pad, y_pad + h_pad), border_color, thickness)\n",
        "        if dx == 0:\n",
        "            cv2.line(img, (x_pad, y_pad), (x_pad, y_pad + h_pad), border_color, thickness)\n",
        "\n",
        "        letter_color = np.mean(background_img[y:y+h, x:x+w], axis=(0, 1))\n",
        "        background_color = [255 - int(c) for c in letter_color]\n",
        "        cv2.rectangle(background_img, (x-margin, y-margin), (x+w+margin, y+h+margin), background_color, -1)\n",
        "\n",
        "        letter_region = imgc[y:y+h, x:x+w]\n",
        "        mask = binary[y:y+h, x:x+w]\n",
        "        mask_inv = cv2.bitwise_not(mask)\n",
        "        bg = cv2.bitwise_and(background_img[y:y+h, x:x+w], background_img[y:y+h, x:x+w], mask=mask_inv)\n",
        "        fg = cv2.bitwise_and(letter_region, letter_region, mask=mask)\n",
        "        background_img[y:y+h, x:x+w] = cv2.add(bg, fg)\n",
        "\n",
        "    return img, background_img\n",
        "\n",
        "rect_img, background_img = draw_rectangles_words()\n",
        "cv2.imwrite(\"./images/words_rectangles.png\", rect_img)\n",
        "cv2.imwrite(\"./images/words_backgrounds.png\", background_img)"
      ]
    }
  ],
  "metadata": {
    "accelerator": "GPU",
    "colab": {
      "gpuType": "T4",
      "provenance": [],
      "authorship_tag": "ABX9TyN/AbhFBaV3CXUy6/4HF+k5",
      "include_colab_link": true
    },
    "kernelspec": {
      "display_name": "Python 3",
      "name": "python3"
    },
    "language_info": {
      "name": "python"
    }
  },
  "nbformat": 4,
  "nbformat_minor": 0
}